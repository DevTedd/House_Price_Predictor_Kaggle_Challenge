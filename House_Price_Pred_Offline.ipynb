{
 "cells": [
  {
   "cell_type": "code",
   "execution_count": null,
   "metadata": {},
   "outputs": [],
   "source": [
    "# Importing in our libraries\n",
    "import pandas as pd \n",
    "import numpy as np\n",
    "import seaborn as sns\n",
    "from ydata_profiling import ProfileReport\n",
    "\n",
    "# Importing our data\n",
    "train_data = pd.read_csv('House_Price_Predictor_Kaggle_Challenge/Data/train.csv')\n",
    "test_data = pd.read_csv('House_Price_Predictor_Kaggle_Challenge/Data/test.csv')\n",
    "train_data.info()\n",
    "\n",
    "\n"
   ]
  },
  {
   "cell_type": "code",
   "execution_count": null,
   "metadata": {
    "vscode": {
     "languageId": "powershell"
    }
   },
   "outputs": [],
   "source": [
    "#Theres quite a number of variables/features to consider. \n",
    "# Instead of going through them one at a time, lets use a library to perfom our EDA much faster\n",
    "# XXXXXXXXXXXXXXXXXXXXXXXXXXXXXXXXXXXXXXXXXXXXXXXXXXXXXXXXXXXXXXXXXX\n",
    "# use ProfileReport\n",
    "from pandas_profiling import ProfileReport\n",
    "pr_df = ProfileReport(train_data, title='House Prices Profiling Report')#, explorative=True)\n",
    "# show pr_df\n",
    "pr_df"
   ]
  }
 ],
 "metadata": {
  "language_info": {
   "name": "python"
  }
 },
 "nbformat": 4,
 "nbformat_minor": 2
}
